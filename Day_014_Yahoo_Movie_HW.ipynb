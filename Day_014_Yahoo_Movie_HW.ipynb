{
 "cells": [
  {
   "cell_type": "markdown",
   "metadata": {},
   "source": [
    "# YAHOO電影爬蟲練習\n",
    "## 練習爬取電影放映資訊。必須逐步獲取電影的代號、放映地區、放映日期後，再送出查詢給伺服器。"
   ]
  },
  {
   "cell_type": "code",
   "execution_count": 1,
   "metadata": {},
   "outputs": [],
   "source": [
    "import requests\n",
    "import re\n",
    "from bs4 import BeautifulSoup"
   ]
  },
  {
   "cell_type": "markdown",
   "metadata": {},
   "source": [
    "### 先搜尋全部的電影代號(ID)資訊"
   ]
  },
  {
   "cell_type": "code",
   "execution_count": 35,
   "metadata": {},
   "outputs": [
    {
     "name": "stdout",
     "output_type": "stream",
     "text": [
      "[<option data-name=\"兔嘲男孩\" value=\"10283\">兔嘲男孩</option>, <option data-name=\"海上鋼琴師4K數位修復\" value=\"10425\">海上鋼琴師4K數位修復</option>, <option data-name=\"鹿皮奇談\" value=\"10420\">鹿皮奇談</option>, <option data-name=\"大約在冬季\" value=\"10408\">大約在冬季</option>, <option data-name=\"倒數計死\" value=\"10390\">倒數計死</option>, <option data-name=\"吹哨人\" value=\"10381\">吹哨人</option>, <option data-name=\"幸福試用期\" value=\"10374\">幸福試用期</option>, <option data-name=\"竊竊屍語\" value=\"10365\">竊竊屍語</option>, <option data-name=\"舞力決戰\" value=\"10344\">舞力決戰</option>, <option data-name=\"潛艦追緝\" value=\"10333\">潛艦追緝</option>, <option data-name=\"霹靂嬌娃\" value=\"10124\">霹靂嬌娃</option>, <option data-name=\"白頭山：半島浩劫\" value=\"10354\">白頭山：半島浩劫</option>, <option data-name=\"CATS貓\" value=\"10166\">CATS貓</option>, <option data-name=\"金魚\" value=\"10424\">金魚</option>, <option data-name=\"海上花\" value=\"10376\">海上花</option>, <option data-name=\"奪魂露營車\" value=\"10366\">奪魂露營車</option>, <option data-name=\"怨靈古堡\" value=\"10356\">怨靈古堡</option>, <option data-name=\"添好孕\" value=\"10332\">添好孕</option>, <option data-name=\"外出偷馬\" value=\"10310\">外出偷馬</option>, <option data-name=\"茱蒂\" value=\"10112\">茱蒂</option>, <option data-name=\"燃燒女子的畫像\" value=\"10069\">燃燒女子的畫像</option>, <option data-name=\"葉問4：完結篇\" value=\"9890\">葉問4：完結篇</option>, <option data-name=\"STAR WARS : 天行者的崛起\" value=\"10225\">STAR WARS : 天行者的崛起</option>, <option data-name=\"復仇母親\" value=\"10392\">復仇母親</option>, <option data-name=\"風暴過後\" value=\"10387\">風暴過後</option>, <option data-name=\"南方車站的聚會\" value=\"10380\">南方車站的聚會</option>, <option data-name=\"祭旗\" value=\"10373\">祭旗</option>, <option data-name=\"黑熊來了\" value=\"10357\">黑熊來了</option>, <option data-name=\"黑計畫\" value=\"10351\">黑計畫</option>, <option data-name=\"8級警戒\" value=\"10323\">8級警戒</option>, <option data-name=\"為你存在的每一天\" value=\"10297\">為你存在的每一天</option>, <option data-name=\"黑色聖誕節\" value=\"10291\">黑色聖誕節</option>, <option data-name=\"熱氣球飛行家\" value=\"10257\">熱氣球飛行家</option>, <option data-name=\"大說謊家\" value=\"10122\">大說謊家</option>, <option data-name=\"特約經紀公司\" value=\"10364\">特約經紀公司</option>, <option data-name=\"人間失格：太宰治與他的3個女人\" value=\"10287\">人間失格：太宰治與他的3個女人</option>, <option data-name=\"呆萌特務\" value=\"10264\">呆萌特務</option>, <option data-name=\"去年聖誕節\" value=\"10256\">去年聖誕節</option>, <option data-name=\"野蠻遊戲：全面晉級\" value=\"10134\">野蠻遊戲：全面晉級</option>, <option data-name=\"夕霧花園\" value=\"10327\">夕霧花園</option>, <option data-name=\"鋒迴路轉\" value=\"10258\">鋒迴路轉</option>, <option data-name=\"賽道狂人\" value=\"10097\">賽道狂人</option>, <option data-name=\"麂皮：永不滿足\" value=\"10358\">麂皮：永不滿足</option>, <option data-name=\"82年生的金智英\" value=\"10298\">82年生的金智英</option>, <option data-name=\"冰雪奇緣2\" value=\"9597\">冰雪奇緣2</option>, <option data-name=\"新聞記者\" value=\"10217\">新聞記者</option>, <option data-name=\"決戰中途島\" value=\"10130\">決戰中途島</option>, <option data-name=\"陽光普照\" value=\"10240\">陽光普照</option>, <option data-name=\"傻傻愛你，傻傻愛我\" value=\"10075\">傻傻愛你，傻傻愛我</option>, <option data-name=\"狙擊獵殺：救援行動\" value=\"10284\">狙擊獵殺：救援行動</option>, <option data-name=\"金翅雀\" value=\"10072\">金翅雀</option>, <option data-name=\"雙子殺手\" value=\"10017\">雙子殺手</option>, <option data-name=\"海獸之子\" value=\"10263\">海獸之子</option>, <option data-name=\"電影版 壞傢伙們\" value=\"10249\">電影版 壞傢伙們</option>, <option data-name=\"江湖無難事\" value=\"10241\">江湖無難事</option>, <option data-name=\"仙戒奇緣\" value=\"10211\">仙戒奇緣</option>, <option data-name=\"藍波：最後一滴血\" value=\"10205\">藍波：最後一滴血</option>, <option data-name=\"屍樂園：髒比雙拼\" value=\"10176\">屍樂園：髒比雙拼</option>, <option data-name=\"弒婚遊戲\" value=\"10171\">弒婚遊戲</option>, <option data-name=\"108悍將\" value=\"10238\">108悍將</option>, <option data-name=\"壞壞萌雪怪\" value=\"10065\">壞壞萌雪怪</option>, <option data-name=\"小丑\" value=\"9949\">小丑</option>, <option data-name=\"教父II\" value=\"10289\">教父II</option>, <option data-name=\"瞞天機密\" value=\"10206\">瞞天機密</option>, <option data-name=\"校外打怪教學\" value=\"10200\">校外打怪教學</option>, <option data-name=\"返校\" value=\"10109\">返校</option>, <option data-name=\"唐頓莊園\" value=\"10064\">唐頓莊園</option>, <option data-name=\"衝擊真相\" value=\"10215\">衝擊真相</option>, <option data-name=\"舞孃騙很大\" value=\"10199\">舞孃騙很大</option>, <option data-name=\"好小男孩\" value=\"9894\">好小男孩</option>, <option data-name=\"大叔之愛電影版\" value=\"10136\">大叔之愛電影版</option>, <option data-name=\"牠 第二章\" value=\"10042\">牠 第二章</option>, <option data-name=\"極限逃生\" value=\"10174\">極限逃生</option>, <option data-name=\"全面攻佔3：天使救援\" value=\"10082\">全面攻佔3：天使救援</option>, <option data-name=\"憤怒鳥玩電影2：冰的啦\" value=\"10002\">憤怒鳥玩電影2：冰的啦</option>, <option data-name=\"獅子王\" value=\"9116\">獅子王</option>, <option data-name=\"玩具總動員4\" value=\"9924\">玩具總動員4</option>, <option data-name=\"毀滅者\" value=\"9405\">毀滅者</option>, <option data-name=\"庫爾斯克號：深海救援\" value=\"9134\">庫爾斯克號：深海救援</option>, <option data-name=\"厄夜追緝令\" value=\"9589\">厄夜追緝令</option>, <option data-name=\"苦兒流浪記\" value=\"9538\">苦兒流浪記</option>, <option data-name=\"活個精彩\" value=\"9394\">活個精彩</option>, <option data-name=\"限時好友\" value=\"9578\">限時好友</option>, <option data-name=\"祝你忌日快樂\" value=\"9568\">祝你忌日快樂</option>, <option data-name=\"艾莉塔：戰鬥天使\" value=\"8553\">艾莉塔：戰鬥天使</option>, <option data-name=\"馴龍高手3\" value=\"8350\">馴龍高手3</option>, <option data-name=\"幸福綠皮書\" value=\"9150\">幸福綠皮書</option>, <option data-name=\"一首搖滾上月球\" value=\"4887\">一首搖滾上月球</option>, <option data-name=\"錢不夠用2\" value=\"3026\">錢不夠用2</option>]\n",
      "Movie: 兔嘲男孩, ID: 10283\n",
      "Movie: 海上鋼琴師4K數位修復, ID: 10425\n",
      "Movie: 鹿皮奇談, ID: 10420\n",
      "Movie: 大約在冬季, ID: 10408\n",
      "Movie: 倒數計死, ID: 10390\n",
      "Movie: 吹哨人, ID: 10381\n",
      "Movie: 幸福試用期, ID: 10374\n",
      "Movie: 竊竊屍語, ID: 10365\n",
      "Movie: 舞力決戰, ID: 10344\n",
      "Movie: 潛艦追緝, ID: 10333\n",
      "Movie: 霹靂嬌娃, ID: 10124\n",
      "Movie: 白頭山：半島浩劫, ID: 10354\n",
      "Movie: CATS貓, ID: 10166\n",
      "Movie: 金魚, ID: 10424\n",
      "Movie: 海上花, ID: 10376\n",
      "Movie: 奪魂露營車, ID: 10366\n",
      "Movie: 怨靈古堡, ID: 10356\n",
      "Movie: 添好孕, ID: 10332\n",
      "Movie: 外出偷馬, ID: 10310\n",
      "Movie: 茱蒂, ID: 10112\n",
      "Movie: 燃燒女子的畫像, ID: 10069\n",
      "Movie: 葉問4：完結篇, ID: 9890\n",
      "Movie: STAR WARS : 天行者的崛起, ID: 10225\n",
      "Movie: 復仇母親, ID: 10392\n",
      "Movie: 風暴過後, ID: 10387\n",
      "Movie: 南方車站的聚會, ID: 10380\n",
      "Movie: 祭旗, ID: 10373\n",
      "Movie: 黑熊來了, ID: 10357\n",
      "Movie: 黑計畫, ID: 10351\n",
      "Movie: 8級警戒, ID: 10323\n",
      "Movie: 為你存在的每一天, ID: 10297\n",
      "Movie: 黑色聖誕節, ID: 10291\n",
      "Movie: 熱氣球飛行家, ID: 10257\n",
      "Movie: 大說謊家, ID: 10122\n",
      "Movie: 特約經紀公司, ID: 10364\n",
      "Movie: 人間失格：太宰治與他的3個女人, ID: 10287\n",
      "Movie: 呆萌特務, ID: 10264\n",
      "Movie: 去年聖誕節, ID: 10256\n",
      "Movie: 野蠻遊戲：全面晉級, ID: 10134\n",
      "Movie: 夕霧花園, ID: 10327\n",
      "Movie: 鋒迴路轉, ID: 10258\n",
      "Movie: 賽道狂人, ID: 10097\n",
      "Movie: 麂皮：永不滿足, ID: 10358\n",
      "Movie: 82年生的金智英, ID: 10298\n",
      "Movie: 冰雪奇緣2, ID: 9597\n",
      "Movie: 新聞記者, ID: 10217\n",
      "Movie: 決戰中途島, ID: 10130\n",
      "Movie: 陽光普照, ID: 10240\n",
      "Movie: 傻傻愛你，傻傻愛我, ID: 10075\n",
      "Movie: 狙擊獵殺：救援行動, ID: 10284\n",
      "Movie: 金翅雀, ID: 10072\n",
      "Movie: 雙子殺手, ID: 10017\n",
      "Movie: 海獸之子, ID: 10263\n",
      "Movie: 電影版 壞傢伙們, ID: 10249\n",
      "Movie: 江湖無難事, ID: 10241\n",
      "Movie: 仙戒奇緣, ID: 10211\n",
      "Movie: 藍波：最後一滴血, ID: 10205\n",
      "Movie: 屍樂園：髒比雙拼, ID: 10176\n",
      "Movie: 弒婚遊戲, ID: 10171\n",
      "Movie: 108悍將, ID: 10238\n",
      "Movie: 壞壞萌雪怪, ID: 10065\n",
      "Movie: 小丑, ID: 9949\n",
      "Movie: 教父II, ID: 10289\n",
      "Movie: 瞞天機密, ID: 10206\n",
      "Movie: 校外打怪教學, ID: 10200\n",
      "Movie: 返校, ID: 10109\n",
      "Movie: 唐頓莊園, ID: 10064\n",
      "Movie: 衝擊真相, ID: 10215\n",
      "Movie: 舞孃騙很大, ID: 10199\n",
      "Movie: 好小男孩, ID: 9894\n",
      "Movie: 大叔之愛電影版, ID: 10136\n",
      "Movie: 牠 第二章, ID: 10042\n",
      "Movie: 極限逃生, ID: 10174\n",
      "Movie: 全面攻佔3：天使救援, ID: 10082\n",
      "Movie: 憤怒鳥玩電影2：冰的啦, ID: 10002\n",
      "Movie: 獅子王, ID: 9116\n",
      "Movie: 玩具總動員4, ID: 9924\n",
      "Movie: 毀滅者, ID: 9405\n",
      "Movie: 庫爾斯克號：深海救援, ID: 9134\n",
      "Movie: 厄夜追緝令, ID: 9589\n",
      "Movie: 苦兒流浪記, ID: 9538\n",
      "Movie: 活個精彩, ID: 9394\n",
      "Movie: 限時好友, ID: 9578\n",
      "Movie: 祝你忌日快樂, ID: 9568\n",
      "Movie: 艾莉塔：戰鬥天使, ID: 8553\n",
      "Movie: 馴龍高手3, ID: 8350\n",
      "Movie: 幸福綠皮書, ID: 9150\n",
      "Movie: 一首搖滾上月球, ID: 4887\n",
      "Movie: 錢不夠用2, ID: 3026\n"
     ]
    }
   ],
   "source": [
    "# 查看目前上映那些電影，並擷取出其ID資訊\n",
    "url = 'https://movies.yahoo.com.tw/'\n",
    "resp = requests.get(url)\n",
    "resp.encoding = 'utf-8'\n",
    "\n",
    "soup = BeautifulSoup(resp.text, 'lxml')\n",
    "html = soup.find(\"select\", attrs={'name':'movie_id'})\n",
    "movie_item = html.find_all(\"option\", attrs={'data-name':re.compile('.*')})\n",
    "print(movie_item)\n",
    "for p in movie_item:\n",
    "    print(\"Movie: %s, ID: %s\" % (p[\"data-name\"], p[\"value\"]))"
   ]
  },
  {
   "cell_type": "markdown",
   "metadata": {},
   "source": [
    "### 指定你有興趣的電影其ID，然後查詢其放映地區資訊。"
   ]
  },
  {
   "cell_type": "code",
   "execution_count": 12,
   "metadata": {},
   "outputs": [],
   "source": [
    "# 參考前一個步驟中擷取到的ID資訊，並指定ID\n",
    "movie_id = 10365"
   ]
  },
  {
   "cell_type": "code",
   "execution_count": 15,
   "metadata": {},
   "outputs": [
    {
     "name": "stdout",
     "output_type": "stream",
     "text": [
      "[{'area_id': 28, 'title': '台北市', 'priority': 150, 'ts_update': 1547519309}, {'area_id': 10, 'title': '台南', 'priority': 100, 'ts_update': 1547507403}, {'area_id': 17, 'title': '高雄', 'priority': 95, 'ts_update': 1547507403}]\n",
      "=====================\n",
      "放映地區: 台北市, 代號(area_id): 28\n",
      "放映地區: 台南, 代號(area_id): 10\n",
      "放映地區: 高雄, 代號(area_id): 17\n"
     ]
    }
   ],
   "source": [
    "url = 'https://movies.yahoo.com.tw/api/v1/areas_by_movie_theater'\n",
    "payload = {'movie_id':str(movie_id)}\n",
    "\n",
    "# 模擬一個header\n",
    "header = {\n",
    "    'authority': 'movies.yahoo.com.tw',\n",
    "    'method': 'GET',\n",
    "    'path': '/api/v1/areas_by_movie_theater?movie_id=' + str(movie_id),\n",
    "    'scheme': 'https',\n",
    "    'accept': 'application/json, text/javascript, */*; q=0.01',\n",
    "    'accept-encoding': 'gzip, deflate, br',\n",
    "    'accept-language': 'zh-TW,zh;q=0.9,en-US;q=0.8,en;q=0.7,zh-CN;q=0.6',\n",
    "    'cookie': 'rxx=9s3x2fws06.1g16irnc&v=1; _ga=GA1.3.2056742944.1551651301; GUC=AQEBAQFczFpdm0IfmwSB&s=AQAAACoo4N5D&g=XMsVBw; BX=4hkdk1decm57t&b=3&s=mr; _ga=GA1.4.2056742944.1551651301; nexagesuid=82843256dd234e8e91aa73f2062f8218; browsed_movie=eyJpdiI6IlJXWWtiSWJaZlNGK2MxQnhscnVUYWc9PSIsInZhbHVlIjoiMXRhMmVHRXRIeUNjc1RBWDJzdGYwbnlIQURmWGsrcjJSMzhkbkcraDNJVUNIZEZsbzU3amlFcVZ1NzlmazJrTGpoMjVrbHk1YmpoRENXaHZTOUw1TmI2ZTZVWHdOejZQZm16RmVuMWlHTTJLaTZLVFZZVkFOMDlTd1wvSGltcytJIiwibWFjIjoiZWQ2ZjA4MmVjZmZlYjlmNjJmYmY2NGMyMDI0Njc0NWViYjVkOWE2NDg0N2RhODMxZjBjZDhiMmJhZTc2MDZhYiJ9; avi=eyJpdiI6Im1NeWFJRlVRWDR1endEcGRGUGJUbVE9PSIsInZhbHVlIjoickRpU3JuUytmcGl6cjF5OW0rNU9iZz09IiwibWFjIjoiY2VmY2NkNzZmM2NhNjY5YzlkOTcyNjE5OGEyMzU0NWYxOTdmMDRkMDY3OWNmMmZjOTMxYjc5MjI5N2Q5NGE5MiJ9; cmp=t=1559391030&j=0; _gid=GA1.4.779543841.1559391031; XSRF-TOKEN=eyJpdiI6IkhpS2hGcDRQaHlmWUJmaHdSS2Q2bHc9PSIsInZhbHVlIjoiOUVoNFk4OHI1UUZmUWRtYXhza0MyWjJSTlhlZ3RnT0VGeVJPN2JuczVRMGRFdWt2OUlsamVKeHRobFwvcHBGM0dhU3VyMXNGTHlsb2dVM2l0U1hpUGxBPT0iLCJtYWMiOiJkZWU4YzJhNjAxMTY3MzE4Y2ExNWIxYmE1ZjE1YWZlZTlhOTcyYjc4M2RlZGY4ZWNjZDYyMTA2NGYwZGViMzc2In0%3D; m_s=eyJpdiI6InpsZHZ2Tk1BZ0dxaHhETml1RjBnUXc9PSIsInZhbHVlIjoiSkNGeHUranRoXC85bDFiaDhySTJqNkJRcWdjWUxjeVRJSHVYZ1wvd2d4bWJZUTUrSHVDM0lUcW5KNHdETFZ4T1lieU81OUhzc1VoUXhZcWk0UDZSQXVFdz09IiwibWFjIjoiYmJkMDJkMDhlODIzMzcyMWY4M2NmYWNjNGVlOWRjMDIwZmVmNzAyMjE3Yzg3ZGY3ODBkZWEzZTI4MTI5ZWNmOSJ9; _gat=1; nexagesd=10',\n",
    "    'dnt': '1',\n",
    "    'mv-authorization': '21835b082e15b91a69b3851eec7b31b82ce82afb',\n",
    "    'referer': 'https://movies.yahoo.com.tw/',\n",
    "    'user-agent': 'Mozilla/5.0 (Windows NT 10.0; Win64; x64) AppleWebKit/537.36 (KHTML, like Gecko) Chrome/74.0.3729.169 Safari/537.36',\n",
    "    'x-requested-with': 'XMLHttpRequest',\n",
    "}\n",
    "    \n",
    "resp = requests.get(url, params=payload, headers=header)\n",
    "print(resp.json())  # 若有需要，列印出json原始碼\n",
    "print(\"=====================\")\n",
    "# 這裡回傳的格式是JSON格式的資料，要解析JSON擷取資料\n",
    "for p in resp.json():\n",
    "    print('放映地區: {0}, 代號(area_id): {1}'.format(p['title'], p['area_id']))"
   ]
  },
  {
   "cell_type": "markdown",
   "metadata": {},
   "source": [
    "### 指定你想要觀看的放映地區，查詢有上映電影的場次日期"
   ]
  },
  {
   "cell_type": "code",
   "execution_count": 16,
   "metadata": {},
   "outputs": [],
   "source": [
    "# 指定放映地區\n",
    "area_id = 28"
   ]
  },
  {
   "cell_type": "code",
   "execution_count": 22,
   "metadata": {},
   "outputs": [
    {
     "name": "stdout",
     "output_type": "stream",
     "text": [
      "[<label class=\"picker_label\" for=\"date_0\">\n",
      "<p class=\"month\">一月</p>\n",
      "<h3 class=\"day\">1</h3>\n",
      "<p class=\"week\">今天</p>\n",
      "</label>, <label class=\"picker_label\" for=\"date_1\">\n",
      "<p class=\"month\">一月</p>\n",
      "<h3 class=\"day\">2</h3>\n",
      "<p class=\"week\">明天</p>\n",
      "</label>, <label class=\"picker_label\" for=\"date_2\">\n",
      "<p class=\"month\">一月</p>\n",
      "<h3 class=\"day\">3</h3>\n",
      "<p class=\"week\">禮拜五</p>\n",
      "</label>, <label class=\"picker_label\" for=\"date_3\">\n",
      "<p class=\"month\">一月</p>\n",
      "<h3 class=\"day\">4</h3>\n",
      "<p class=\"week\">禮拜六</p>\n",
      "</label>, <label class=\"picker_label\" for=\"date_4\">\n",
      "<p class=\"month\">一月</p>\n",
      "<h3 class=\"day\">5</h3>\n",
      "<p class=\"week\">禮拜天</p>\n",
      "</label>]\n",
      "================\n",
      "一月 1\n",
      "一月 2\n",
      "一月 3\n",
      "一月 4\n",
      "一月 5\n"
     ]
    }
   ],
   "source": [
    "# 向網站發送請求\n",
    "url = 'https://movies.yahoo.com.tw/movietime_result.html'\n",
    "payload = {'movie_id':str(movie_id), 'area_id':str(area_id)}\n",
    "resp = requests.get(url, params=payload)\n",
    "resp.encoding = 'utf-8'\n",
    "\n",
    "soup = BeautifulSoup(resp.text, 'lxml')\n",
    "movie_date = soup.find_all(\"label\", attrs={'for':re.compile(\"date_[\\d]\")})\n",
    "print(movie_date)\n",
    "print(\"================\")\n",
    "# 列印播放日期\n",
    "for date in movie_date:\n",
    "    print(\"%s %s\" % (date.p.string, date.h3.string))"
   ]
  },
  {
   "cell_type": "markdown",
   "metadata": {},
   "source": [
    "### 最後指定觀看的日期，查詢並列印出放映的電影院、放映類型(數位、3D、IMAX 3D...)、放映時間等資訊。"
   ]
  },
  {
   "cell_type": "code",
   "execution_count": 23,
   "metadata": {},
   "outputs": [],
   "source": [
    "# 選定要觀看的日期\n",
    "date = \"2020-01-03\""
   ]
  },
  {
   "cell_type": "code",
   "execution_count": 44,
   "metadata": {},
   "outputs": [
    {
     "name": "stdout",
     "output_type": "stream",
     "text": [
      "[<ul class=\"area_time _c jq_area_time\" data-theater_name=\"台北樂聲影城\" data-theater_schedules=\"https://movies.yahoo.com.tw/theater_result.html/id=38\" data-theater_url=\"http://www.luxcinema.com.tw/\" id=\"theater_id_38\">\n",
      "<li class=\"adds\">\n",
      "<a href=\"https://movies.yahoo.com.tw/theater_result.html/id=38\">台北樂聲影城</a>\n",
      "<span>02-23118628</span>\n",
      "</li>\n",
      "<li class=\"taps\">\n",
      "<span class=\"tapR\">數位</span> </li>\n",
      "<li class=\"time _c\">\n",
      "<div class=\"input_picker jq_input_picker\">\n",
      "<input class=\"gabtn\" data-cinema=\"46efa950eafa11e38b12987bdb90dba4\" data-date=\"1577980800\" data-ezding=\"ezding\" data-ga=\"['電影頁_時刻表', '電影頁_時刻表_場次', '竊竊屍語']\" data-movie=\"6da49f45cb6a409f93e1610df10b9315\" data-movie_date=\"01.04\" data-movie_time=\"02:10\" data-movie_title=\"竊竊屍語\" data-movie_type=\"數位\" data-session=\"fbfa9180d7054c1b9c23043429695f0d\" data-time=\"1578075000\" id=\"72684796\" name=\"schedule_list\" type=\"radio\" value=\"2020-01-04 02:10:00\"/>\n",
      "<label class=\"select\" for=\"72684796\">02:10</label>\n",
      "</div>\n",
      "</li>\n",
      "</ul>]\n"
     ]
    }
   ],
   "source": [
    "# 向網站發送請求，獲取上映的電影院及時間資訊\n",
    "url = \"https://movies.yahoo.com.tw/ajax/pc/get_schedule_by_movie\"\n",
    "payload = {'movie_id':str(movie_id),\n",
    "           'date':date,\n",
    "           'area_id':str(area_id),\n",
    "           'theater_id':'',\n",
    "           'datetime':'',\n",
    "           'movie_type_id':''}\n",
    "\n",
    "resp = requests.get(url, params=payload)\n",
    "#print(resp.json()['view'])  # 若有需要，列印出json原始碼\n",
    "\n",
    "soup = BeautifulSoup(resp.json()['view'], 'lxml')\n",
    "html = soup.find_all(\"ul\", attrs={'data-theater_name':re.compile(\".*\")})\n",
    "print(html)"
   ]
  },
  {
   "cell_type": "code",
   "execution_count": 52,
   "metadata": {},
   "outputs": [
    {
     "name": "stdout",
     "output_type": "stream",
     "text": [
      "電影院：台北樂聲影城\n",
      "影片放映類型：數位\n",
      "時間表：['2020-01-04 02:10:00']\n"
     ]
    }
   ],
   "source": [
    "for h in html:\n",
    "    print('電影院：{}'.format(h['data-theater_name']))\n",
    "    print('影片放映類型：{}'.format(h.find('span',class_='tapR').text))\n",
    "    print('時間表：{}'.format([d['value'] for d in h.find_all('input', class_='gabtn')]))\n"
   ]
  },
  {
   "cell_type": "code",
   "execution_count": null,
   "metadata": {},
   "outputs": [],
   "source": []
  }
 ],
 "metadata": {
  "kernelspec": {
   "display_name": "Python 3",
   "language": "python",
   "name": "python3"
  },
  "language_info": {
   "codemirror_mode": {
    "name": "ipython",
    "version": 3
   },
   "file_extension": ".py",
   "mimetype": "text/x-python",
   "name": "python",
   "nbconvert_exporter": "python",
   "pygments_lexer": "ipython3",
   "version": "3.7.4"
  }
 },
 "nbformat": 4,
 "nbformat_minor": 2
}
