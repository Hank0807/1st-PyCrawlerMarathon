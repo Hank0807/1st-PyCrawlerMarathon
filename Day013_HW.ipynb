{
 "cells": [
  {
   "cell_type": "markdown",
   "metadata": {},
   "source": [
    "# PTT 網路爬蟲實作練習\n",
    "\n",
    "\n",
    "* 能夠利用 Request + BeatifulSour 撰寫爬蟲，並存放到合適的資料結構\n"
   ]
  },
  {
   "cell_type": "markdown",
   "metadata": {},
   "source": [
    "## 作業目標\n",
    "\n",
    "根據範例 ，完成以下問題：\n",
    "\n",
    "* ① 印出最新文章的「作者」「標題」「時間」\n",
    "* ② 印出第一頁所有文章的「作者」「標題」「時間」\n"
   ]
  },
  {
   "cell_type": "markdown",
   "metadata": {},
   "source": [
    "### ① 印出最新文章的「作者」「標題」「時間」"
   ]
  },
  {
   "cell_type": "code",
   "execution_count": 103,
   "metadata": {},
   "outputs": [
    {
     "name": "stdout",
     "output_type": "stream",
     "text": [
      "日期:12/16  作者:kairiyu         標題:Re: [情報] 嘴綠快攻空拋打板傳球....隊友沒人接到\n",
      "日期:12/16  作者:phoenix286      標題:[新聞] 布萊德索將休兵2週 字母哥：球隊有足夠深\n",
      "日期:12/16  作者:kakala99        標題:[情報] 真的很難！格林賽後爆粗口：從各個角度來\n",
      "日期:12/16  作者:KyrieIrving1    標題:[花邊] 奧尼爾曬OK組合和詹眉組合對位圖：2對2你\n",
      "日期:12/16  作者:ColeNorris      標題:[花邊] LBJ談Carter: 他是史上最佳的實戰扣將\n",
      "日期:12/16  作者:pneumo          標題:[外絮] Woj: 現在的火箭正處在危急關頭\n",
      "日期:12/16  作者:ios5566         標題:Re: [討論] 健康的Fultz好可怕\n",
      "日期:12/16  作者:asdf1256        標題:[新聞] 羅素本季暫留勇士機會高 沃神：季中交易\n",
      "日期:12/16  作者:thnlkj0665      標題:[花邊] 湖人客場14連勝 平聯盟史上第3長紀錄\n",
      "日期:12/16  作者:Israfil         標題:[新聞] 3度遭熱火禁賽 威斯特飯碗恐不保\n",
      "日期:12/16  作者:Angel0724       標題:[新聞] 國王29失誤仍贏球 柯爾：從沒看過\n",
      "日期:12/16  作者:kairiyu         標題:[花邊] Hayward社交媒體曬照，與女兒們歡度聖誕派對\n",
      "日期:12/16  作者:snakeback       標題:Re: [花邊] 奧尼爾曬OK組合和詹眉組合對位圖：2對2你\n",
      "日期:12/16  作者:boyen0917       標題:Re: [花邊] 奧尼爾曬OK組合和詹眉組合對位圖：2對2你\n",
      "日期:5/24   作者:Vedan           標題:[公告] 板規v6.6    \n",
      "日期:6/24   作者:Vedan           標題:[公告] 樂透取消及未來不再開啟樂透\n",
      "日期:10/25  作者:qazwsx879345    標題:[公告] 版主上任相關事項  \n",
      "日期:11/29  作者:JerroLi         標題:[情報] SEASON Schedule 賽程 December 19–20\n"
     ]
    }
   ],
   "source": [
    "import requests\n",
    "from bs4 import BeautifulSoup\n",
    "\n",
    "url = 'https://www.ptt.cc/bbs/NBA/index.html'\n",
    "r = requests.get(url, timeout=3, cookies={'over18': '1'})\n",
    "soup = BeautifulSoup(r.text, \"html5lib\")\n",
    "target = soup.find(class_=\"r-ent\")\n",
    "\n",
    "content_url = \"https://www.ptt.cc\" + target.find('a')['href']\n",
    "# print(content_url)\n",
    "# request article content\n",
    "\n",
    "def find_by_url(target): #-> Dict[str, str]:\n",
    "    r = requests.get(target, timeout=3, cookies={'over18': '1'})\n",
    "    soup = BeautifulSoup(r.text, \"html5lib\")\n",
    "    title_c = []\n",
    "    #print(soup)\n",
    "    for meta_data in soup.find_all(class_=\"r-ent\"):\n",
    "        title = meta_data.find(class_=\"title\").text.strip()\n",
    "        author = meta_data.find(class_=\"author\").text.strip()\n",
    "        date = meta_data.find(class_=\"date\").text.strip()\n",
    "        title_c.append(date)\n",
    "        title_c.append(author)\n",
    "        title_c.append(title)\n",
    "        #print(title_c)\n",
    "    return title_c\n",
    "\n",
    "ret = find_by_url(url)\n",
    "count=0\n",
    "for i in range(int(len(ret)/3)):\n",
    "    date = ret[count]\n",
    "    author = ret[count+1]\n",
    "    title = ret[count+2]\n",
    "    print('日期:{0:6s} 作者:{1:15s} 標題:{2:15s}'.format(date, author, title))\n",
    "    count+=3\n",
    "    "
   ]
  },
  {
   "cell_type": "markdown",
   "metadata": {},
   "source": [
    "### ② 印出第一頁所有文章的「作者」「標題」「時間」"
   ]
  },
  {
   "cell_type": "code",
   "execution_count": 106,
   "metadata": {},
   "outputs": [
    {
     "name": "stdout",
     "output_type": "stream",
     "text": [
      "https://www.ptt.cc/bbs/NBA/index1.html\n",
      "日期:5/16   作者:Price           標題:[轉錄]Lyotard 對於太陽板討論串的結論\n",
      "日期:5/31   作者:Price           標題:[公告] 請停止一切關於本次活動的發言\n",
      "日期:6/08   作者:Frankaze        標題:[轉錄]跟之前那篇比起來 我覺得這篇也應該轉過來\n",
      "日期:6/08   作者:Frankaze        標題:[轉錄]再轉一篇好文來    \n",
      "日期:6/10   作者:Price           標題:[轉錄][情報] 夏洛特山貓系列\n",
      "日期:6/10   作者:Price           標題:[轉錄]Re: [心得] 真是受不了糗爺....\n",
      "日期:6/10   作者:Price           標題:[轉錄]總冠軍賽NO.2觀後感\n",
      "日期:6/11   作者:AmuroNamie      標題:[心得] Rasheed Wallace\n",
      "日期:6/12   作者:toptree         標題:掌控球賽的男人        \n",
      "日期:6/12   作者:skchang         標題:[閒聊] 說說2004季後賽名場面回顧\n",
      "日期:6/12   作者:shineup         標題:[心得] 其實說穿了 就是活塞的防守太可怕了\n",
      "日期:6/12   作者:cOvi            標題:Re: [閒聊] 說說2004季後賽名場面回顧\n",
      "日期:6/12   作者:ykshih          標題:Re: [閒聊] 說說2004季後賽名場面回顧\n",
      "日期:6/12   作者:Frankaze        標題:Re: [閒聊] 說說2004季後賽名場面回顧\n",
      "日期:6/14   作者:Price           標題:[轉錄]Re: 總冠軍賽NO.3觀後感\n",
      "日期:6/14   作者:Frankaze        標題:[轉錄]Re: 總冠軍賽NO.3觀後感\n",
      "日期:6/14   作者:star1           標題:Re: [轉錄]Re: 總冠軍賽NO.3觀後感\n",
      "日期:6/14   作者:coldspring      標題:Re: [轉錄]Re: 總冠軍賽NO.3觀後感\n",
      "日期:6/14   作者:airbear         標題:Re: Kobe is frustrated...\n",
      "日期:6/14   作者:pennykidd       標題:Re: [轉錄]Re: 總冠軍賽NO.3觀後感\n"
     ]
    }
   ],
   "source": [
    "import requests\n",
    "from bs4 import BeautifulSoup\n",
    "\n",
    "page = 1\n",
    "\n",
    "url = 'https://www.ptt.cc/bbs/NBA/index'+str(page)+'.html'\n",
    "print(url)\n",
    "r = requests.get(url, timeout=3, cookies={'over18': '1'})\n",
    "soup = BeautifulSoup(r.text, \"html5lib\")\n",
    "target = soup.find(class_=\"r-ent\")\n",
    "\n",
    "content_url = \"https://www.ptt.cc\" + target.find('a')['href']\n",
    "# print(content_url)\n",
    "# request article content\n",
    "\n",
    "def find_by_url(target): #-> Dict[str, str]:\n",
    "    r = requests.get(target, timeout=3, cookies={'over18': '1'})\n",
    "    soup = BeautifulSoup(r.text, \"html5lib\")\n",
    "    title_c = []\n",
    "    #print(soup)\n",
    "    for meta_data in soup.find_all(class_=\"r-ent\"):\n",
    "        title = meta_data.find(class_=\"title\").text.strip()\n",
    "        author = meta_data.find(class_=\"author\").text.strip()\n",
    "        date = meta_data.find(class_=\"date\").text.strip()\n",
    "        title_c.append(date)\n",
    "        title_c.append(author)\n",
    "        title_c.append(title)\n",
    "        #print(title_c)\n",
    "    return title_c\n",
    "\n",
    "ret = find_by_url(url)\n",
    "count=0\n",
    "for i in range(int(len(ret)/3)):\n",
    "    date = ret[count]\n",
    "    author = ret[count+1]\n",
    "    title = ret[count+2]\n",
    "    print('日期:{0:6s} 作者:{1:15s} 標題:{2:15s}'.format(date, author, title))\n",
    "    count+=3"
   ]
  },
  {
   "cell_type": "markdown",
   "metadata": {},
   "source": [
    "### ③ 試著爬爬看其他版的文章"
   ]
  },
  {
   "cell_type": "code",
   "execution_count": 109,
   "metadata": {},
   "outputs": [
    {
     "name": "stdout",
     "output_type": "stream",
     "text": [
      "https://www.ptt.cc/bbs/car/index.html\n",
      "日期:12/16  作者:Aqqqa           標題:[新聞] 買400萬名車卻買到泡水車？台南消費者控\n",
      "日期:12/16  作者:yamatobar       標題:[新聞] 電動車熱銷，碳排放量仍增加？研究指出又是 SUV 惹的禍\n",
      "日期:12/16  作者:vidcina         標題:[分享] 疑似 Aston Martin DBX\n",
      "日期:12/16  作者:clazziquai      標題:[新聞] Mercedes-AMG CLA 35 Shooting Brake抵台\n",
      "日期:12/16  作者:asdf3164        標題:[情報] URX正式售價84.8萬起\n",
      "日期:12/16  作者:XperiaZ2A       標題:[問題] 未來新車是不是都不會配置備胎了??\n",
      "日期:12/16  作者:nancykuo3       標題:[分享] 在路上看到賓士EQC\n",
      "日期:12/16  作者:yamatobar       標題:[新聞] 雙B新車、大改Nissan Juke與Ford Tourneo Connect年底現身？\n",
      "日期:12/16  作者:bugymilk        標題:[情報] 台灣驕傲一上市破千單\n",
      "日期:12/16  作者:hiphoprover     標題:[新聞] HONDA 最快明年夏天推出 L3 等級的自動駕\n",
      "日期:12/16  作者:st210113        標題:[新聞] 台南水泥車連環撞1死5傷 司機驚呼煞車故\n",
      "日期:12/16  作者:wx3421          標題:[問題] 新車乙式保險    \n",
      "日期:12/16  作者:f59952          標題:[問題] 請問假排氣口的意義 \n",
      "日期:12/16  作者:ee3722          標題:[菜單] Focus 4D 頂\n",
      "日期:12/16  作者:pohy960         標題:[心得] 2011 Audi A8L D4 V6 原廠CPO 開箱\n",
      "日期:12/16  作者:ascii1204       標題:Re: [討論] 舊RAV4 車頭&A柱 大輸貨卡後斗？！\n",
      "日期:12/16  作者:ianlin1012      標題:[問題]  裝車機 ax100\n",
      "日期:12/16  作者:eo4x            標題:[討論] 大家會後悔花錢裝很吵的排氣管嗎?\n",
      "日期:1/09   作者:MunezSu         標題:[公告] Car板板規 2019/08/15 板規修正\n",
      "日期:4/09   作者:z85917131       標題:Re: [整理] 百萬左右熱門新車主被動安全配備(SRS/ESP/VSC..)整理\n",
      "日期:10/01  作者:MunezSu         標題:[活動連署] saitou68201上任第二位版主\n",
      "日期:10/29  作者:aboxxx          標題:[活動]照常舉行12/07南部車聚_文衡殿烤肉火鍋會\n"
     ]
    }
   ],
   "source": [
    "import requests\n",
    "from bs4 import BeautifulSoup\n",
    "\n",
    "page = ''\n",
    "doc_type = 'car'\n",
    "\n",
    "url = 'https://www.ptt.cc/bbs/'+doc_type+'/index'+page+'.html'\n",
    "print(url)\n",
    "r = requests.get(url, timeout=3, cookies={'over18': '1'})\n",
    "soup = BeautifulSoup(r.text, \"html5lib\")\n",
    "target = soup.find(class_=\"r-ent\")\n",
    "\n",
    "content_url = \"https://www.ptt.cc\" + target.find('a')['href']\n",
    "# print(content_url)\n",
    "# request article content\n",
    "\n",
    "def find_by_url(target): #-> Dict[str, str]:\n",
    "    r = requests.get(target, timeout=3, cookies={'over18': '1'})\n",
    "    soup = BeautifulSoup(r.text, \"html5lib\")\n",
    "    title_c = []\n",
    "    #print(soup)\n",
    "    for meta_data in soup.find_all(class_=\"r-ent\"):\n",
    "        title = meta_data.find(class_=\"title\").text.strip()\n",
    "        author = meta_data.find(class_=\"author\").text.strip()\n",
    "        date = meta_data.find(class_=\"date\").text.strip()\n",
    "        title_c.append(date)\n",
    "        title_c.append(author)\n",
    "        title_c.append(title)\n",
    "        #print(title_c)\n",
    "    return title_c\n",
    "\n",
    "ret = find_by_url(url)\n",
    "count=0\n",
    "for i in range(int(len(ret)/3)):\n",
    "    date = ret[count]\n",
    "    author = ret[count+1]\n",
    "    title = ret[count+2]\n",
    "    print('日期:{0:6s} 作者:{1:15s} 標題:{2:15s}'.format(date, author, title))\n",
    "    count+=3"
   ]
  },
  {
   "cell_type": "code",
   "execution_count": null,
   "metadata": {},
   "outputs": [],
   "source": []
  }
 ],
 "metadata": {
  "kernelspec": {
   "display_name": "Python 3",
   "language": "python",
   "name": "python3"
  },
  "language_info": {
   "codemirror_mode": {
    "name": "ipython",
    "version": 3
   },
   "file_extension": ".py",
   "mimetype": "text/x-python",
   "name": "python",
   "nbconvert_exporter": "python",
   "pygments_lexer": "ipython3",
   "version": "3.7.4"
  }
 },
 "nbformat": 4,
 "nbformat_minor": 2
}
