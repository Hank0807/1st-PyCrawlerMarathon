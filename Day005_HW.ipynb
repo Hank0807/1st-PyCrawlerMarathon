{
 "cells": [
  {
   "cell_type": "markdown",
   "metadata": {},
   "source": [
    "# API 資料串接 - 以 Dcard API 實作範例\n",
    "\n",
    "* 利用 urllib 套件的 urlretrieve 方法下載檔案\n",
    "* 了解 Python File I/O 讀檔、寫檔的用法\n",
    "* 能用運用資源管理器 With Statement 優化寫法"
   ]
  },
  {
   "cell_type": "markdown",
   "metadata": {},
   "source": [
    "## 作業目標\n",
    "\n",
    "* 請利用 API: https://www.dcard.tw/_api/forums/pet/posts?popular=true 回答下列問題：\n",
    "\n",
    "1. 這個 API 一次會回傳幾筆資料？每一筆資料包含哪些欄位？\n",
    "2. 取出每一筆資料的「標題」、「貼文時間」、「留言人數」、「按讚人數」\n",
    "3. 計算熱門/非熱門文章的「平均留言人數」與「平均按讚人數」"
   ]
  },
  {
   "cell_type": "code",
   "execution_count": 14,
   "metadata": {},
   "outputs": [
    {
     "name": "stdout",
     "output_type": "stream",
     "text": [
      "一次回傳： 30 筆資料\n",
      "每一筆資料包含欄位有 33 個 ： dict_keys(['id', 'title', 'excerpt', 'anonymousSchool', 'anonymousDepartment', 'pinned', 'forumId', 'replyId', 'createdAt', 'updatedAt', 'commentCount', 'likeCount', 'withNickname', 'tags', 'topics', 'meta', 'forumName', 'forumAlias', 'gender', 'school', 'department', 'replyTitle', 'mediaMeta', 'reactions', 'hidden', 'customStyle', 'isSuspiciousAccount', 'layout', 'withImages', 'withVideos', 'media', 'reportReasonText', 'postAvatar'])\n"
     ]
    }
   ],
   "source": [
    "# 1. 這個 API 一次會回傳幾筆資料？每一筆資料包含哪些欄位？\n",
    "\n",
    "import requests, json\n",
    "r_popular = requests.get('https://www.dcard.tw/_api/forums/pet/posts?popular=true')\n",
    "data_popular = json.loads(r_popular.text)\n",
    "print(\"一次回傳：\", len(data_popular),\"筆資料\")\n",
    "print(\"每一筆資料包含欄位有\",len(data_popular[0].keys()), \"個\", \"：\",data_popular[0].keys())\n"
   ]
  },
  {
   "cell_type": "code",
   "execution_count": 33,
   "metadata": {},
   "outputs": [
    {
     "name": "stdout",
     "output_type": "stream",
     "text": [
      "1.\t貼文時間:2019-11-27T02:15:28.197Z 留言人數  16 按讚人數 390 ->標題:我養到別人家的貓            \n",
      "2.\t貼文時間:2019-11-27T03:55:26.087Z 留言人數   3 按讚人數 303 ->標題:哪裡來的天使              \n",
      "3.\t貼文時間:2019-11-27T14:09:04.187Z 留言人數   7 按讚人數 230 ->標題:最近刺蝟有點苦惱……          \n",
      "4.\t貼文時間:2019-11-27T04:05:54.907Z 留言人數  16 按讚人數 191 ->標題:有沒有人想要認養貓😢          \n",
      "5.\t貼文時間:2019-11-27T15:53:37.579Z 留言人數   6 按讚人數  84 ->標題:貓咪送養                \n",
      "6.\t貼文時間:2019-11-27T02:51:29.228Z 留言人數   8 按讚人數  52 ->標題:我好像養了一顆球（？          \n",
      "7.\t貼文時間:2019-11-27T19:05:47.181Z 留言人數  14 按讚人數  39 ->標題:教不到2天就會握手的貓？！       \n",
      "8.\t貼文時間:2019-11-27T09:03:30.781Z 留言人數   4 按讚人數  39 ->標題:跪求原圖                \n",
      "9.\t貼文時間:2019-11-27T01:46:18.916Z 留言人數   3 按讚人數  39 ->標題:黑貓                  \n",
      "10.\t貼文時間:2019-11-27T03:08:52.535Z 留言人數  10 按讚人數  36 ->標題:可愛ㄉ米克斯🐶             \n",
      "11.\t貼文時間:2019-11-27T13:29:28.841Z 留言人數   2 按讚人數  35 ->標題:小cookie 一歲生日嘍       \n",
      "12.\t貼文時間:2019-11-28T04:08:18.539Z 留言人數   6 按讚人數  26 ->標題:這些狗你認識嗎😍            \n",
      "13.\t貼文時間:2019-11-27T17:48:07.040Z 留言人數   1 按讚人數  25 ->標題:兔子吃草a跩樣             \n",
      "14.\t貼文時間:2019-11-27T02:42:25.099Z 留言人數   2 按讚人數  25 ->標題:#更新  尋貓啟示（拜託幫幫忙     \n",
      "15.\t貼文時間:2019-11-27T14:33:01.950Z 留言人數   2 按讚人數  24 ->標題:送養貓咪                \n",
      "16.\t貼文時間:2019-11-27T16:20:13.198Z 留言人數   1 按讚人數  22 ->標題:開箱ㄐㄅ貓貓              \n",
      "17.\t貼文時間:2019-11-27T16:36:38.742Z 留言人數   7 按讚人數  21 ->標題:耐ㄍ⋯                 \n",
      "18.\t貼文時間:2019-11-27T11:11:21.836Z 留言人數   4 按讚人數  17 ->標題:尋貓啟示#台南永康南應大        \n",
      "19.\t貼文時間:2019-11-28T02:52:25.651Z 留言人數   2 按讚人數  16 ->標題:幼貓送養文               \n",
      "20.\t貼文時間:2019-11-27T07:36:04.550Z 留言人數   4 按讚人數  16 ->標題:蛇蛇吃飯（不喜勿入喔          \n",
      "21.\t貼文時間:2019-11-27T02:13:43.258Z 留言人數   0 按讚人數  16 ->標題:［協助汪星人回家］           \n",
      "22.\t貼文時間:2019-11-27T12:15:40.192Z 留言人數  12 按讚人數  14 ->標題:妳的柯基犬很可愛            \n",
      "23.\t貼文時間:2019-11-27T14:33:19.704Z 留言人數   2 按讚人數  12 ->標題:貓咪要如何避免被自己的💩臭死？     \n",
      "24.\t貼文時間:2019-11-27T08:59:09.803Z 留言人數   8 按讚人數  11 ->標題:終於知道去哪裡學來的睡姿⋯⋯      \n",
      "25.\t貼文時間:2019-11-27T00:56:58.462Z 留言人數   1 按讚人數  11 ->標題:睡姿同步之雙傻組            \n",
      "26.\t貼文時間:2019-11-28T07:19:45.391Z 留言人數   1 按讚人數  10 ->標題:充滿柴柴的人生❤️           \n",
      "27.\t貼文時間:2019-11-27T11:41:07.570Z 留言人數   1 按讚人數   9 ->標題:貓咪後腳內八              \n",
      "28.\t貼文時間:2019-11-28T05:23:12.530Z 留言人數   0 按讚人數   8 ->標題:高科大校板的遺失倉鼠          \n",
      "29.\t貼文時間:2019-11-28T03:29:33.883Z 留言人數   1 按讚人數   8 ->標題:協尋幼犬                \n",
      "30.\t貼文時間:2019-11-27T16:39:41.215Z 留言人數   4 按讚人數   8 ->標題:我家阿北有老人味🦜 求解        \n"
     ]
    }
   ],
   "source": [
    "# 2. 取出每一筆資料的「標題」、「貼文時間」、「留言人數」、「按讚人數」\n",
    "count = 0\n",
    "for x in data_popular:\n",
    "    count+=1\n",
    "    print(str(count)+'.\\t'+'貼文時間:{1:25s}留言人數{2:4d} 按讚人數{3:4d} ->標題:{0:20s}'.format(x['title'], x['createdAt'], x['commentCount'], x['likeCount']))"
   ]
  },
  {
   "cell_type": "code",
   "execution_count": 35,
   "metadata": {},
   "outputs": [
    {
     "name": "stdout",
     "output_type": "stream",
     "text": [
      "\n",
      "***** 熱門文章 *****\n",
      "平均留言人數 =  4.933333333333334\n",
      "平均按讚人數 =  57.9\n",
      "\n",
      "***** 非熱門文章 *****\n",
      "平均留言人數 =  2.3\n",
      "平均按讚人數 =  12.233333333333333\n"
     ]
    }
   ],
   "source": [
    "# 3. 計算熱門/非熱門文章的「平均留言人數」與「平均按讚人數」\n",
    "r_notpopular = requests.get('https://www.dcard.tw/_api/forums/pet/posts?popular=false')\n",
    "data_not_popular = json.loads(r_notpopular.text)\n",
    "\n",
    "sum_comment_y = 0\n",
    "sum_likecount_y = 0\n",
    "sum_comment_x = 0\n",
    "sum_likecount_x = 0\n",
    "\n",
    "count_x = 0\n",
    "for x in data_popular:\n",
    "    count_x += 1\n",
    "    sum_comment_x += x['commentCount']\n",
    "    sum_likecount_x += x['likeCount']\n",
    "    \n",
    "count_y = 0\n",
    "for y in data_not_popular:\n",
    "    count_y += 1\n",
    "    sum_comment_y += y['commentCount']\n",
    "    sum_likecount_y += y['likeCount']\n",
    "\n",
    "avg_comment_x = sum_comment_x/count_x\n",
    "avg_likecount_x = sum_likecount_x/count_x\n",
    "\n",
    "avg_comment_y = sum_comment_y/count_y\n",
    "avg_likecount_y = sum_likecount_y/count_y\n",
    "\n",
    "print('\\n***** 熱門文章 *****')\n",
    "print('平均留言人數 = ', avg_comment_x )\n",
    "print('平均按讚人數 = ', avg_likecount_x)\n",
    "\n",
    "print('\\n***** 非熱門文章 *****')\n",
    "print('平均留言人數 = ', avg_comment_y )\n",
    "print('平均按讚人數 = ', avg_likecount_y)"
   ]
  },
  {
   "cell_type": "code",
   "execution_count": null,
   "metadata": {},
   "outputs": [],
   "source": []
  },
  {
   "cell_type": "code",
   "execution_count": null,
   "metadata": {},
   "outputs": [],
   "source": []
  }
 ],
 "metadata": {
  "kernelspec": {
   "display_name": "Python 3",
   "language": "python",
   "name": "python3"
  },
  "language_info": {
   "codemirror_mode": {
    "name": "ipython",
    "version": 3
   },
   "file_extension": ".py",
   "mimetype": "text/x-python",
   "name": "python",
   "nbconvert_exporter": "python",
   "pygments_lexer": "ipython3",
   "version": "3.7.4"
  }
 },
 "nbformat": 4,
 "nbformat_minor": 2
}
